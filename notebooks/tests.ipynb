{
 "cells": [
  {
   "cell_type": "markdown",
   "id": "concerned-stadium",
   "metadata": {},
   "source": [
    "# Importing libraries"
   ]
  },
  {
   "cell_type": "code",
   "execution_count": 1,
   "id": "graphic-mounting",
   "metadata": {},
   "outputs": [],
   "source": [
    "import os"
   ]
  },
  {
   "cell_type": "code",
   "execution_count": 2,
   "id": "specialized-effects",
   "metadata": {},
   "outputs": [],
   "source": [
    "import pandas as pd"
   ]
  },
  {
   "cell_type": "code",
   "execution_count": 7,
   "id": "nearby-problem",
   "metadata": {},
   "outputs": [],
   "source": [
    "import streamlit as st\n",
    "from dotenv import load_dotenv"
   ]
  },
  {
   "cell_type": "code",
   "execution_count": 9,
   "id": "related-classics",
   "metadata": {},
   "outputs": [],
   "source": [
    "import entsoe"
   ]
  },
  {
   "cell_type": "code",
   "execution_count": 11,
   "id": "million-scratch",
   "metadata": {},
   "outputs": [
    {
     "data": {
      "text/plain": [
       "True"
      ]
     },
     "execution_count": 11,
     "metadata": {},
     "output_type": "execute_result"
    }
   ],
   "source": [
    "load_dotenv()"
   ]
  },
  {
   "cell_type": "code",
   "execution_count": 12,
   "id": "spoken-alexander",
   "metadata": {},
   "outputs": [
    {
     "data": {
      "text/plain": [
       "environ{'NVM_RC_VERSION': '',\n",
       "        'SSH_AGENT_PID': '3497',\n",
       "        'TERM_PROGRAM': 'Apple_Terminal',\n",
       "        'PYENV_ROOT': '/Users/nhuyghe/.pyenv',\n",
       "        'NVM_CD_FLAGS': '-q',\n",
       "        'SHELL': '/bin/zsh',\n",
       "        'TERM': 'xterm-color',\n",
       "        'TMPDIR': '/var/folders/sl/vmg67xb54gqfsx6clkgw0r140000gn/T/',\n",
       "        'GOOGLE_APPLICATION_CREDENTIALS': '/Users/nhuyghe/code/gcp_keys/ev-stations-owner-gcloud-keys.json',\n",
       "        'TERM_PROGRAM_VERSION': '433',\n",
       "        'TERM_SESSION_ID': '9666A9EA-426B-4BFE-9304-CE60464EA6CF',\n",
       "        'PYENV_VERSION': 'windpower',\n",
       "        'LC_ALL': 'en_US.UTF-8',\n",
       "        'NVM_DIR': '/Users/nhuyghe/.nvm',\n",
       "        'USER': 'nhuyghe',\n",
       "        'HOMEBREW_NO_ANALYTICS': '1',\n",
       "        'SSH_AUTH_SOCK': '/var/folders/sl/vmg67xb54gqfsx6clkgw0r140000gn/T//ssh-5GlFJuQoNSu1/agent.3495',\n",
       "        'PYENV_DIR': '/Users/nhuyghe/code/nicolashuyghe/wind_Power_Forecasting',\n",
       "        'PYENV_VIRTUALENV_DISABLE_PROMPT': '1',\n",
       "        'PYENV_VIRTUALENV_INIT': '1',\n",
       "        'VIRTUAL_ENV': '/Users/nhuyghe/.pyenv/versions/3.8.6/envs/windpower',\n",
       "        'PAGER': 'cat',\n",
       "        'PYENV_VIRTUAL_ENV': '/Users/nhuyghe/.pyenv/versions/3.8.6/envs/windpower',\n",
       "        'LSCOLORS': 'Gxfxcxdxbxegedabagacad',\n",
       "        'PATH': '/Users/nhuyghe/.pyenv/versions/windpower/bin:/usr/local/Cellar/pyenv/1.2.22/libexec:/Users/nhuyghe/.pyenv/plugins/pyenv-virtualenv/bin:/usr/local/Cellar/pyenv/1.2.22/plugins/python-build/bin:/usr/local/Caskroom/google-cloud-sdk/latest/google-cloud-sdk/bin:./bin:./node_modules/.bin:/Users/nhuyghe/.pyenv/plugins/pyenv-virtualenv/shims:/Users/nhuyghe/.pyenv/shims:/Users/nhuyghe/.pyenv/bin:/Users/nhuyghe/.rbenv/bin:/Users/nhuyghe/.pyenv/shims:/usr/local/bin:/usr/bin:/bin:/usr/sbin:/sbin:/usr/local/sbin',\n",
       "        'PWD': '/Users/nhuyghe/code/nicolashuyghe/wind_Power_Forecasting',\n",
       "        'LANG': 'en_US.UTF-8',\n",
       "        'CLOUDSDK_PYTHON': '/usr/local/opt/python@3.9/libexec/bin/python',\n",
       "        'PYENV_HOOK_PATH': '/Users/nhuyghe/.pyenv/pyenv.d:/usr/local/Cellar/pyenv/1.2.22/pyenv.d:/usr/local/etc/pyenv.d:/etc/pyenv.d:/usr/lib/pyenv/hooks:/Users/nhuyghe/.pyenv/plugins/pyenv-virtualenv/etc/pyenv.d',\n",
       "        'XPC_FLAGS': '0x0',\n",
       "        'XPC_SERVICE_NAME': '0',\n",
       "        'PYENV_SHELL': 'zsh',\n",
       "        'SHLVL': '1',\n",
       "        'HOME': '/Users/nhuyghe',\n",
       "        'BUNDLER_EDITOR': \"'/Applications/Sublime Text.app/Contents/SharedSupport/bin/subl' -a\",\n",
       "        'PYTHONPATH': '/Users/nhuyghe/code/nicolashuyghe/data-challenges/04-Decision-Science:',\n",
       "        'LESS': '-R',\n",
       "        'LOGNAME': 'nhuyghe',\n",
       "        'LC_CTYPE': 'UTF-8',\n",
       "        '__CF_USER_TEXT_ENCODING': '0x1F5:0x0:0x0',\n",
       "        'JPY_PARENT_PID': '12733',\n",
       "        'CLICOLOR': '1',\n",
       "        'GIT_PAGER': 'cat',\n",
       "        'MPLBACKEND': 'module://ipykernel.pylab.backend_inline'}"
      ]
     },
     "execution_count": 12,
     "metadata": {},
     "output_type": "execute_result"
    }
   ],
   "source": [
    "os.environ[]"
   ]
  },
  {
   "cell_type": "code",
   "execution_count": null,
   "id": "weird-holocaust",
   "metadata": {},
   "outputs": [],
   "source": []
  },
  {
   "cell_type": "code",
   "execution_count": 10,
   "id": "available-monster",
   "metadata": {},
   "outputs": [
    {
     "ename": "ImportError",
     "evalue": "cannot import name 'EntsoePandasClient' from 'entsoe' (/Users/nhuyghe/.pyenv/versions/3.8.6/envs/windpower/lib/python3.8/site-packages/entsoe/__init__.py)",
     "output_type": "error",
     "traceback": [
      "\u001b[0;31m---------------------------------------------------------------------------\u001b[0m",
      "\u001b[0;31mImportError\u001b[0m                               Traceback (most recent call last)",
      "\u001b[0;32m<ipython-input-10-e29f47b3a529>\u001b[0m in \u001b[0;36m<module>\u001b[0;34m\u001b[0m\n\u001b[0;32m----> 1\u001b[0;31m \u001b[0;32mfrom\u001b[0m \u001b[0mentsoe\u001b[0m \u001b[0;32mimport\u001b[0m \u001b[0mEntsoePandasClient\u001b[0m\u001b[0;34m\u001b[0m\u001b[0;34m\u001b[0m\u001b[0m\n\u001b[0m",
      "\u001b[0;31mImportError\u001b[0m: cannot import name 'EntsoePandasClient' from 'entsoe' (/Users/nhuyghe/.pyenv/versions/3.8.6/envs/windpower/lib/python3.8/site-packages/entsoe/__init__.py)"
     ]
    }
   ],
   "source": [
    "from entsoe import EntsoePandasClient"
   ]
  },
  {
   "cell_type": "code",
   "execution_count": 6,
   "id": "chubby-concert",
   "metadata": {},
   "outputs": [
    {
     "ename": "ImportError",
     "evalue": "cannot import name 'EntsoePandasClient' from 'entsoe' (/Users/nhuyghe/.pyenv/versions/3.8.6/envs/windpower/lib/python3.8/site-packages/entsoe/__init__.py)",
     "output_type": "error",
     "traceback": [
      "\u001b[0;31m---------------------------------------------------------------------------\u001b[0m",
      "\u001b[0;31mImportError\u001b[0m                               Traceback (most recent call last)",
      "\u001b[0;32m<ipython-input-6-9386396fadea>\u001b[0m in \u001b[0;36m<module>\u001b[0;34m\u001b[0m\n\u001b[1;32m      1\u001b[0m \u001b[0;32mimport\u001b[0m \u001b[0mstreamlit\u001b[0m \u001b[0;32mas\u001b[0m \u001b[0mst\u001b[0m\u001b[0;34m\u001b[0m\u001b[0;34m\u001b[0m\u001b[0m\n\u001b[1;32m      2\u001b[0m \u001b[0;32mfrom\u001b[0m \u001b[0mdotenv\u001b[0m \u001b[0;32mimport\u001b[0m \u001b[0mload_dotenv\u001b[0m\u001b[0;34m\u001b[0m\u001b[0;34m\u001b[0m\u001b[0m\n\u001b[0;32m----> 3\u001b[0;31m \u001b[0;32mfrom\u001b[0m \u001b[0mentsoe\u001b[0m \u001b[0;32mimport\u001b[0m \u001b[0mEntsoePandasClient\u001b[0m\u001b[0;34m\u001b[0m\u001b[0;34m\u001b[0m\u001b[0m\n\u001b[0m\u001b[1;32m      4\u001b[0m \u001b[0;32mfrom\u001b[0m \u001b[0mentsoe\u001b[0m\u001b[0;34m.\u001b[0m\u001b[0mmappings\u001b[0m \u001b[0;32mimport\u001b[0m \u001b[0mTIMEZONE_MAPPINGS\u001b[0m\u001b[0;34m\u001b[0m\u001b[0;34m\u001b[0m\u001b[0m\n",
      "\u001b[0;31mImportError\u001b[0m: cannot import name 'EntsoePandasClient' from 'entsoe' (/Users/nhuyghe/.pyenv/versions/3.8.6/envs/windpower/lib/python3.8/site-packages/entsoe/__init__.py)"
     ]
    }
   ],
   "source": [
    "from entsoe.mappings import TIMEZONE_MAPPINGS"
   ]
  },
  {
   "cell_type": "code",
   "execution_count": null,
   "id": "instrumental-extent",
   "metadata": {},
   "outputs": [],
   "source": [
    "#Using the caching mechanism of Streamlit,\n",
    "#to download energy data from the ENTSOE API only when necessary\n",
    "@st.cache\n",
    "def get_energy_data(country_code):\n",
    "    load_dotenv()\n",
    "    token = os.environ['TOKEN']\n",
    "    client = EntsoePandasClient(api_key=token)\n",
    "    end = pd.Timestamp.now(tz=TIMEZONE_MAPPINGS[country_code])\n",
    "    start = end - pd.DateOffset(months=1)\n",
    "    df = client.query_generation(country_code, start=start,end=end, psr_type=None)\n",
    "    #Resampling the dataframe with an hourly frequency,\n",
    "    #because some of the countries provide time series\n",
    "    #with higher frequencies (15T), but we don't need that.\n",
    "    df = df.resample('H').mean()"
   ]
  }
 ],
 "metadata": {
  "kernelspec": {
   "display_name": "Python 3",
   "language": "python",
   "name": "python3"
  },
  "language_info": {
   "codemirror_mode": {
    "name": "ipython",
    "version": 3
   },
   "file_extension": ".py",
   "mimetype": "text/x-python",
   "name": "python",
   "nbconvert_exporter": "python",
   "pygments_lexer": "ipython3",
   "version": "3.8.6"
  },
  "toc": {
   "base_numbering": 1,
   "nav_menu": {},
   "number_sections": true,
   "sideBar": true,
   "skip_h1_title": false,
   "title_cell": "Table of Contents",
   "title_sidebar": "Contents",
   "toc_cell": false,
   "toc_position": {},
   "toc_section_display": true,
   "toc_window_display": false
  }
 },
 "nbformat": 4,
 "nbformat_minor": 5
}
